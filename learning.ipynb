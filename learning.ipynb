{
 "cells": [
  {
   "cell_type": "markdown",
   "metadata": {},
   "source": [
    "# place where i master python for you all. python in a couple of weeks. \n",
    "\n",
    "i've never took an official programming class before. so let's cook it up. \n",
    "\n",
    "how? free stuff on the internet with the help of https://pythonprogramming.net/ and https://www.python.org/"
   ]
  },
  {
   "cell_type": "code",
   "execution_count": 4,
   "metadata": {},
   "outputs": [
    {
     "name": "stdout",
     "output_type": "stream",
     "text": [
      "Hello World\n",
      "Hello World: My favorite number is one, which could be rewritten as 1!\n"
     ]
    }
   ],
   "source": [
    "# classic hello world, i will be looking at all the print documentation \n",
    "\n",
    "print(\"Hello World\")\n",
    "print(\"Hello World: My favorite number is one, which could be rewritten as \" + str(1) + \"!\")"
   ]
  },
  {
   "cell_type": "markdown",
   "metadata": {},
   "source": [
    "For example, we're going to have a variable that stores programming languages, so we're going to call our variable programming_languages. Even for a non-programmer, this is pretty darn legible. It looks like a list, but list is actually a programming term, and, officially, this actually isn't a list. It's what's called a tuple."
   ]
  },
  {
   "cell_type": "code",
   "execution_count": 5,
   "metadata": {},
   "outputs": [
    {
     "name": "stdout",
     "output_type": "stream",
     "text": [
      "What is this class?: <class 'tuple'>\n"
     ]
    },
    {
     "data": {
      "text/plain": [
       "('Python', 'Java', 'C++', 'C#')"
      ]
     },
     "execution_count": 5,
     "metadata": {},
     "output_type": "execute_result"
    }
   ],
   "source": [
    "# objects and storing variables \n",
    "\n",
    "programming_languages = \"Python\", \"Java\", \"C++\", \"C#\"\n",
    "\n",
    "print(\"What is this class?: \" + str(type(programming_languages)))\n",
    "programming_languages"
   ]
  },
  {
   "cell_type": "code",
   "execution_count": 6,
   "metadata": {},
   "outputs": [
    {
     "name": "stdout",
     "output_type": "stream",
     "text": [
      "Python\n",
      "Java\n",
      "C++\n",
      "C#\n"
     ]
    }
   ],
   "source": [
    "programming_languages = \"Python\", \"Java\", \"C++\", \"C#\"\n",
    "\n",
    "for languages in programming_languages: # this item which is the variables in the tuple \n",
    "    print(languages) # print out each variable item within the tuple "
   ]
  },
  {
   "cell_type": "code",
   "execution_count": 7,
   "metadata": {},
   "outputs": [
    {
     "name": "stdout",
     "output_type": "stream",
     "text": [
      "[[0, 0, 0], [0, 0, 0], [0, 0, 0]]\n"
     ]
    }
   ],
   "source": [
    "# tic tac toe game \n",
    "\n",
    "game = [[0,0,0],[0,0,0],[0,0,0]] # list commands \n",
    "\n",
    "print(game) "
   ]
  },
  {
   "cell_type": "code",
   "execution_count": 8,
   "metadata": {},
   "outputs": [],
   "source": [
    "count = 0 "
   ]
  },
  {
   "cell_type": "markdown",
   "metadata": {},
   "source": [
    "Remember a moment ago how the game of TicTacToe was apparently only four steps?\n",
    "\n",
    "1. Visualize the game somehow\n",
    "2. Allow players to enter moves\n",
    "3. Make sure moves are valid and handle if not.\n",
    "4. Determine if there's a winner."
   ]
  },
  {
   "cell_type": "code",
   "execution_count": 11,
   "metadata": {},
   "outputs": [
    {
     "name": "stdout",
     "output_type": "stream",
     "text": [
      "   0  1  2\n",
      "0 [0, 0, 0]\n",
      "1 [0, 0, 0]\n",
      "2 [0, 0, 0]\n"
     ]
    }
   ],
   "source": [
    "# loops and functions (no classes yet that I have to learn)\n",
    "        \n",
    "# this is the final code \n",
    "\n",
    "def tictactoe(): \n",
    "    game = [[0,0,0],[0,0,0],[0,0,0]] \n",
    "    print(\"   0  1  2\")\n",
    "    count = 0 \n",
    "    for count, rows in enumerate(game): \n",
    "        print(count, rows) # doing a for loop\n",
    "        count+= 1 \n",
    "\n",
    "tictactoe()\n"
   ]
  },
  {
   "cell_type": "markdown",
   "metadata": {},
   "source": [
    "Enumerate() is another built-in function with Python, and it's one of the more \"fancy\" tools that is indeed nice to have and know, but you don't actually need it to get the job done. It does become exceptionally more useful when you intend to iterate over a few iterables together, though there are also many ways (including with fancy tools) to do this too! "
   ]
  },
  {
   "cell_type": "code",
   "execution_count": 21,
   "metadata": {},
   "outputs": [
    {
     "name": "stdout",
     "output_type": "stream",
     "text": [
      "   0  1  2\n",
      "0 [0, 2, 0]\n",
      "1 [0, 0, 0]\n",
      "2 [0, 0, 0]\n"
     ]
    }
   ],
   "source": [
    "game = [[0,0,0],[0,0,0],[0,0,0]] \n",
    "print(\"   0  1  2\")\n",
    "count = 0 \n",
    "game[0][1] = 2 \n",
    "# for rows in game: \n",
    "#         print(count, rows) # doing a for loop\n",
    "#         count+= 1 \n",
    "for count, rows in enumerate(game): \n",
    "        print(count, rows)"
   ]
  },
  {
   "cell_type": "markdown",
   "metadata": {},
   "source": [
    "Next, we need some way to actually modify the positions. Right now we're assuming all of the zeros are empty, and we'd like to have some way to denote a player actually maintaining one of the positions! This has 2 parts to it: actually taking in the player's intentions via some sort of input, and then actually marking. We can do the actual player input later and right now focus on how we'd actually mark the board.\n",
    "\n",
    "To do this, we're going to use indexing. We can use indexes to get values or set new ones. Let's see some examples."
   ]
  },
  {
   "cell_type": "code",
   "execution_count": 18,
   "metadata": {},
   "outputs": [
    {
     "name": "stdout",
     "output_type": "stream",
     "text": [
      "2\n",
      "[3, 4]\n"
     ]
    }
   ],
   "source": [
    "list = [1,2,3,4,5]\n",
    "print(list[1]) # index 1\n",
    "print(list[2:4]) # index 2 and 3 not 2,3,4"
   ]
  },
  {
   "cell_type": "markdown",
   "metadata": {},
   "source": [
    "In our case, this is a list of lists. We need 1 index to reference the specific list we want, then we need the index of the item from within that list. We can do this by stacking up the indexes. Let's see an example. Let's pretend we have the following:"
   ]
  },
  {
   "cell_type": "code",
   "execution_count": 20,
   "metadata": {},
   "outputs": [
    {
     "name": "stdout",
     "output_type": "stream",
     "text": [
      "2\n"
     ]
    }
   ],
   "source": [
    "# which element is the list in ? \n",
    "\n",
    "game = [[0, 2, 0],\n",
    "        [0, 0, 0],\n",
    "        [0, 0, 0]]\n",
    "\n",
    "print(game[0][1]) # 0th row, 1st column (n+1)"
   ]
  },
  {
   "cell_type": "code",
   "execution_count": 22,
   "metadata": {},
   "outputs": [
    {
     "name": "stdout",
     "output_type": "stream",
     "text": [
      "   0  1  2\n",
      "0 [0, 2, 0]\n",
      "1 [0, 0, 0]\n",
      "2 [0, 0, 0]\n"
     ]
    }
   ],
   "source": [
    "game = [[0, 0, 0],\n",
    "        [0, 0, 0],\n",
    "        [0, 0, 0]]\n",
    "\n",
    "game[0][1] = 2\n",
    "\n",
    "print(\"   0  1  2\")\n",
    "\n",
    "for count, row in enumerate(game):\n",
    "    print(count, row)"
   ]
  },
  {
   "cell_type": "code",
   "execution_count": 23,
   "metadata": {},
   "outputs": [
    {
     "name": "stdout",
     "output_type": "stream",
     "text": [
      "   0  1  2\n",
      "0 [0, 0, 0]\n",
      "1 [0, 0, 0]\n",
      "2 [0, 0, 0]\n",
      "   0  1  2\n",
      "0 [0, 2, 0]\n",
      "1 [0, 0, 0]\n",
      "2 [0, 0, 0]\n"
     ]
    }
   ],
   "source": [
    "# visual and player observing\n",
    " \n",
    "# starts off with the empty board \n",
    "\n",
    "game = [[0, 0, 0],\n",
    "        [0, 0, 0],\n",
    "        [0, 0, 0]]\n",
    "\n",
    "print(\"   0  1  2\")\n",
    "for count, row in enumerate(game):\n",
    "    print(count, row)\n",
    "\n",
    "# puts the player's input, do not worry about the player's frontend input \n",
    "\n",
    "game[0][1] = 2\n",
    "\n",
    "print(\"   0  1  2\")\n",
    "for count, row in enumerate(game):\n",
    "    print(count, row)"
   ]
  },
  {
   "cell_type": "code",
   "execution_count": null,
   "metadata": {},
   "outputs": [],
   "source": []
  }
 ],
 "metadata": {
  "kernelspec": {
   "display_name": "base",
   "language": "python",
   "name": "python3"
  },
  "language_info": {
   "codemirror_mode": {
    "name": "ipython",
    "version": 3
   },
   "file_extension": ".py",
   "mimetype": "text/x-python",
   "name": "python",
   "nbconvert_exporter": "python",
   "pygments_lexer": "ipython3",
   "version": "3.12.7"
  }
 },
 "nbformat": 4,
 "nbformat_minor": 2
}
