{
 "cells": [
  {
   "cell_type": "markdown",
   "metadata": {},
   "source": [
    "# place where i master python for you all. python in a couple of weeks. \n",
    "\n",
    "i've never took an official programming class before. so let's cook it up. \n",
    "\n",
    "how? free stuff on the internet with the help of https://pythonprogramming.net/ and https://www.python.org/"
   ]
  },
  {
   "cell_type": "code",
   "execution_count": null,
   "metadata": {},
   "outputs": [],
   "source": [
    "# classic hello world, i will be looking at all the print documentation \n",
    "\n",
    "print(\"Hello World\")\n",
    "print(\"Hello World: My favorite number is one, which could be rewritten as \" + str(1) + \"!\")"
   ]
  },
  {
   "cell_type": "markdown",
   "metadata": {},
   "source": [
    "For example, we're going to have a variable that stores programming languages, so we're going to call our variable programming_languages. Even for a non-programmer, this is pretty darn legible. It looks like a list, but list is actually a programming term, and, officially, this actually isn't a list. It's what's called a tuple."
   ]
  },
  {
   "cell_type": "code",
   "execution_count": null,
   "metadata": {},
   "outputs": [],
   "source": [
    "# objects and storing variables \n",
    "\n",
    "programming_languages = \"Python\", \"Java\", \"C++\", \"C#\"\n",
    "\n",
    "print(\"What is this class?: \" + str(type(programming_languages)))\n",
    "programming_languages"
   ]
  },
  {
   "cell_type": "code",
   "execution_count": null,
   "metadata": {},
   "outputs": [],
   "source": [
    "programming_languages = \"Python\", \"Java\", \"C++\", \"C#\"\n",
    "\n",
    "for languages in programming_languages: # this item which is the variables in the tuple \n",
    "    print(languages) # print out each variable item within the tuple "
   ]
  },
  {
   "cell_type": "code",
   "execution_count": null,
   "metadata": {},
   "outputs": [],
   "source": [
    "# tic tac toe game \n",
    "\n",
    "game = [[0,0,0],[0,0,0],[0,0,0]] # list commands \n",
    "\n",
    "print(game) "
   ]
  },
  {
   "cell_type": "code",
   "execution_count": null,
   "metadata": {},
   "outputs": [],
   "source": [
    "# loops and functions (no classes yet that I have to learn)\n",
    "\n",
    "def tictactoe(): \n",
    "    game = [[0,0,0],[0,0,0],[0,0,0]] \n",
    "    print(\" 0  1  2\")\n",
    "    for rows in game: \n",
    "        print(rows) # doing a for loop\n",
    "\n",
    "tictactoe()\n"
   ]
  },
  {
   "cell_type": "markdown",
   "metadata": {},
   "source": [
    "Remember a moment ago how the game of TicTacToe was apparently only four steps?\n",
    "\n",
    "1. Visualize the game somehow\n",
    "2. Allow players to enter moves\n",
    "3. Make sure moves are valid and handle if not.\n",
    "4. Determine if there's a winner."
   ]
  }
 ],
 "metadata": {
  "kernelspec": {
   "display_name": "base",
   "language": "python",
   "name": "python3"
  },
  "language_info": {
   "name": "python",
   "version": "3.12.7"
  }
 },
 "nbformat": 4,
 "nbformat_minor": 2
}
