{
 "cells": [
  {
   "cell_type": "markdown",
   "metadata": {},
   "source": [
    "https://github.com/turboslapper/reinforced-tictactoe credits \n",
    "\n",
    "working on Q-learning and adapting \n",
    "\n",
    "i'm learning from need. -> finish this in class "
   ]
  }
 ],
 "metadata": {
  "language_info": {
   "name": "python"
  }
 },
 "nbformat": 4,
 "nbformat_minor": 2
}
