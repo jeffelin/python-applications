{
 "cells": [
  {
   "cell_type": "markdown",
   "metadata": {},
   "source": [
    "https://github.com/turboslapper/reinforced-tictactoe credits \n",
    "\n",
    "working on Q-learning and adapting \n",
    "\n",
    "i'm learning from need. "
   ]
  }
 ],
 "metadata": {
  "language_info": {
   "name": "python"
  }
 },
 "nbformat": 4,
 "nbformat_minor": 2
}
