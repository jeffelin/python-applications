{
 "cells": [
  {
   "cell_type": "markdown",
   "metadata": {},
   "source": [
    "# place where i master python for you all. python in a couple of weeks. \n",
    "\n",
    "i've never took an official programming class before. so let's cook it up. \n",
    "\n",
    "how? free stuff on the internet with the help of https://pythonprogramming.net/ and https://www.python.org/"
   ]
  },
  {
   "cell_type": "code",
   "execution_count": 67,
   "metadata": {},
   "outputs": [
    {
     "name": "stdout",
     "output_type": "stream",
     "text": [
      "Hello World\n",
      "Hello World: My favorite number is one, which could be rewritten as 1!\n"
     ]
    }
   ],
   "source": [
    "# classic hello world, i will be looking at all the print documentation \n",
    "\n",
    "print(\"Hello World\")\n",
    "print(\"Hello World: My favorite number is one, which could be rewritten as \" + str(1) + \"!\")"
   ]
  },
  {
   "cell_type": "markdown",
   "metadata": {},
   "source": [
    "For example, we're going to have a variable that stores programming languages, so we're going to call our variable programming_languages. Even for a non-programmer, this is pretty darn legible. It looks like a list, but list is actually a programming term, and, officially, this actually isn't a list. It's what's called a tuple."
   ]
  },
  {
   "cell_type": "code",
   "execution_count": 68,
   "metadata": {},
   "outputs": [
    {
     "name": "stdout",
     "output_type": "stream",
     "text": [
      "What is this class?: <class 'tuple'>\n"
     ]
    },
    {
     "data": {
      "text/plain": [
       "('Python', 'Java', 'C++', 'C#')"
      ]
     },
     "execution_count": 68,
     "metadata": {},
     "output_type": "execute_result"
    }
   ],
   "source": [
    "# objects and storing variables \n",
    "\n",
    "programming_languages = \"Python\", \"Java\", \"C++\", \"C#\"\n",
    "\n",
    "print(\"What is this class?: \" + str(type(programming_languages)))\n",
    "programming_languages"
   ]
  },
  {
   "cell_type": "code",
   "execution_count": 69,
   "metadata": {},
   "outputs": [
    {
     "name": "stdout",
     "output_type": "stream",
     "text": [
      "Python\n",
      "Java\n",
      "C++\n",
      "C#\n"
     ]
    }
   ],
   "source": [
    "programming_languages = \"Python\", \"Java\", \"C++\", \"C#\"\n",
    "\n",
    "for languages in programming_languages: # this item which is the variables in the tuple \n",
    "    print(languages) # print out each variable item within the tuple "
   ]
  },
  {
   "cell_type": "code",
   "execution_count": 70,
   "metadata": {},
   "outputs": [
    {
     "name": "stdout",
     "output_type": "stream",
     "text": [
      "[[0, 0, 0], [0, 0, 0], [0, 0, 0]]\n"
     ]
    }
   ],
   "source": [
    "# tic tac toe game \n",
    "\n",
    "game = [[0,0,0],[0,0,0],[0,0,0]] # list commands \n",
    "\n",
    "print(game) "
   ]
  },
  {
   "cell_type": "code",
   "execution_count": 71,
   "metadata": {},
   "outputs": [],
   "source": [
    "count = 0 "
   ]
  },
  {
   "cell_type": "markdown",
   "metadata": {},
   "source": [
    "Remember a moment ago how the game of TicTacToe was apparently only four steps?\n",
    "\n",
    "1. Visualize the game somehow\n",
    "2. Allow players to enter moves\n",
    "3. Make sure moves are valid and handle if not.\n",
    "4. Determine if there's a winner."
   ]
  },
  {
   "cell_type": "code",
   "execution_count": 72,
   "metadata": {},
   "outputs": [
    {
     "name": "stdout",
     "output_type": "stream",
     "text": [
      "   0  1  2\n",
      "0 [0, 0, 0]\n",
      "1 [0, 0, 0]\n",
      "2 [0, 0, 0]\n"
     ]
    }
   ],
   "source": [
    "# loops and functions (no classes yet that I have to learn)\n",
    "        \n",
    "# this is the final code \n",
    "\n",
    "def tictactoe(): \n",
    "    game = [[0,0,0],[0,0,0],[0,0,0]] \n",
    "    print(\"   0  1  2\")\n",
    "    count = 0 \n",
    "    for count, rows in enumerate(game): \n",
    "        print(count, rows) # doing a for loop\n",
    "        count+= 1 \n",
    "\n",
    "tictactoe()\n"
   ]
  },
  {
   "cell_type": "markdown",
   "metadata": {},
   "source": [
    "Enumerate() is another built-in function with Python, and it's one of the more \"fancy\" tools that is indeed nice to have and know, but you don't actually need it to get the job done. It does become exceptionally more useful when you intend to iterate over a few iterables together, though there are also many ways (including with fancy tools) to do this too! "
   ]
  },
  {
   "cell_type": "code",
   "execution_count": 73,
   "metadata": {},
   "outputs": [
    {
     "name": "stdout",
     "output_type": "stream",
     "text": [
      "   0  1  2\n",
      "0 [0, 2, 0]\n",
      "1 [0, 0, 0]\n",
      "2 [0, 0, 0]\n"
     ]
    }
   ],
   "source": [
    "game = [[0,0,0],[0,0,0],[0,0,0]] \n",
    "print(\"   0  1  2\")\n",
    "count = 0 \n",
    "game[0][1] = 2 \n",
    "# for rows in game: \n",
    "#         print(count, rows) # doing a for loop\n",
    "#         count+= 1 \n",
    "for count, rows in enumerate(game): \n",
    "        print(count, rows)"
   ]
  },
  {
   "cell_type": "markdown",
   "metadata": {},
   "source": [
    "Next, we need some way to actually modify the positions. Right now we're assuming all of the zeros are empty, and we'd like to have some way to denote a player actually maintaining one of the positions! This has 2 parts to it: actually taking in the player's intentions via some sort of input, and then actually marking. We can do the actual player input later and right now focus on how we'd actually mark the board.\n",
    "\n",
    "To do this, we're going to use indexing. We can use indexes to get values or set new ones. Let's see some examples."
   ]
  },
  {
   "cell_type": "code",
   "execution_count": 74,
   "metadata": {},
   "outputs": [
    {
     "name": "stdout",
     "output_type": "stream",
     "text": [
      "2\n",
      "[3, 4]\n"
     ]
    }
   ],
   "source": [
    "list = [1,2,3,4,5]\n",
    "print(list[1]) # index 1\n",
    "print(list[2:4]) # index 2 and 3 not 2,3,4"
   ]
  },
  {
   "cell_type": "markdown",
   "metadata": {},
   "source": [
    "In our case, this is a list of lists. We need 1 index to reference the specific list we want, then we need the index of the item from within that list. We can do this by stacking up the indexes. Let's see an example. Let's pretend we have the following:"
   ]
  },
  {
   "cell_type": "code",
   "execution_count": 75,
   "metadata": {},
   "outputs": [
    {
     "name": "stdout",
     "output_type": "stream",
     "text": [
      "2\n"
     ]
    }
   ],
   "source": [
    "# which element is the list in ? \n",
    "\n",
    "game = [[0, 2, 0],\n",
    "        [0, 0, 0],\n",
    "        [0, 0, 0]]\n",
    "\n",
    "print(game[0][1]) # 0th row, 1st column (n+1)"
   ]
  },
  {
   "cell_type": "code",
   "execution_count": 76,
   "metadata": {},
   "outputs": [
    {
     "name": "stdout",
     "output_type": "stream",
     "text": [
      "   0  1  2\n",
      "0 [0, 2, 0]\n",
      "1 [0, 0, 0]\n",
      "2 [0, 0, 0]\n"
     ]
    }
   ],
   "source": [
    "game = [[0, 0, 0],\n",
    "        [0, 0, 0],\n",
    "        [0, 0, 0]]\n",
    "\n",
    "game[0][1] = 2\n",
    "\n",
    "print(\"   0  1  2\")\n",
    "\n",
    "for count, row in enumerate(game):\n",
    "    print(count, row)"
   ]
  },
  {
   "cell_type": "code",
   "execution_count": 77,
   "metadata": {},
   "outputs": [
    {
     "name": "stdout",
     "output_type": "stream",
     "text": [
      "   0  1  2\n",
      "0 [0, 0, 0]\n",
      "1 [0, 0, 0]\n",
      "2 [0, 0, 0]\n",
      "   0  1  2\n",
      "0 [0, 2, 0]\n",
      "1 [0, 0, 0]\n",
      "2 [0, 0, 0]\n"
     ]
    }
   ],
   "source": [
    "# visual and player observing\n",
    " \n",
    "# starts off with the empty board \n",
    "\n",
    "game = [[0, 0, 0],\n",
    "        [0, 0, 0],\n",
    "        [0, 0, 0]]\n",
    "\n",
    "print(\"   0  1  2\")\n",
    "for count, row in enumerate(game):\n",
    "    print(count, row)\n",
    "\n",
    "# puts the player's input, do not worry about the player's frontend input \n",
    "\n",
    "game[0][1] = 2\n",
    "\n",
    "print(\"   0  1  2\")\n",
    "for count, row in enumerate(game):\n",
    "    print(count, row)"
   ]
  },
  {
   "cell_type": "code",
   "execution_count": 78,
   "metadata": {},
   "outputs": [],
   "source": [
    "# function building \n",
    "\n",
    "def game_board(): \n",
    "\n",
    "    game = [[0, 0, 0],\n",
    "        [0, 0, 0],\n",
    "        [0, 0, 0]]\n",
    "    \n",
    "    # just putting the game board of the game \n",
    "\n",
    "    print(\"   0  1  2\") # status \n",
    "     \n",
    "    for count, row in enumerate(game):\n",
    "        print(count, row)\n",
    "\n",
    "    game[0][1] = 2 # now we are assigning\n",
    "    \n",
    "    # what if we did a random sequence of numbers into the list arrays \n",
    "    print(\"   0  1  2\") # status \n",
    "    for count, row in enumerate(game):\n",
    "        print(count, row)\n",
    "    \n",
    "\n"
   ]
  },
  {
   "cell_type": "code",
   "execution_count": 79,
   "metadata": {},
   "outputs": [
    {
     "name": "stdout",
     "output_type": "stream",
     "text": [
      "11\n",
      "Hey there\n"
     ]
    }
   ],
   "source": [
    "def addition(x,y): \n",
    "    return x+y \n",
    "\n",
    "print(addition(5, 6))\n",
    "\n",
    "print(addition(\"Hey\", \" there\"))"
   ]
  },
  {
   "cell_type": "code",
   "execution_count": 80,
   "metadata": {},
   "outputs": [],
   "source": [
    "game = [[0, 0, 0],\n",
    "        [0, 0, 0],\n",
    "        [0, 0, 0]]\n",
    "\n",
    "def game_board(current_game, player=0, row=0, column=0, just_display=False):\n",
    "    print(\"   0  1  2\")\n",
    "    if not just_display:\n",
    "        game[row][column] = player\n",
    "    for count, row in enumerate(game):\n",
    "        print(count, row)\n",
    "    return current_game"
   ]
  },
  {
   "cell_type": "code",
   "execution_count": 81,
   "metadata": {},
   "outputs": [
    {
     "name": "stdout",
     "output_type": "stream",
     "text": [
      "   0  1  2\n",
      "0 [0, 0, 0]\n",
      "1 [0, 0, 0]\n",
      "2 [0, 0, 0]\n",
      "   0  1  2\n",
      "0 [2, 0, 0]\n",
      "1 [0, 0, 0]\n",
      "2 [0, 0, 0]\n"
     ]
    },
    {
     "data": {
      "text/plain": [
       "[[2, 0, 0], [0, 0, 0], [0, 0, 0]]"
      ]
     },
     "execution_count": 81,
     "metadata": {},
     "output_type": "execute_result"
    }
   ],
   "source": [
    "game_board(game)\n",
    "game_board(game, player=2, row=0, column=0) # player puts 2 in first array "
   ]
  },
  {
   "cell_type": "markdown",
   "metadata": {},
   "source": [
    "So our game variable has still been modified, despite it instead being passed as a parameter with a different name.\n",
    "\n",
    "One nifty thing we can do to know for sure if a thing is actually pointing to the same object in memory is to check it's ID in memory with id(), another built-in function in Python. Let's see:"
   ]
  },
  {
   "cell_type": "code",
   "execution_count": 82,
   "metadata": {},
   "outputs": [
    {
     "name": "stdout",
     "output_type": "stream",
     "text": [
      "[[2, 0, 0], [0, 0, 0], [0, 0, 0]]\n",
      "2088837182272\n"
     ]
    }
   ],
   "source": [
    "print(game)\n",
    "print(id(game))"
   ]
  },
  {
   "cell_type": "code",
   "execution_count": 83,
   "metadata": {},
   "outputs": [
    {
     "name": "stdout",
     "output_type": "stream",
     "text": [
      "A game\n"
     ]
    }
   ],
   "source": [
    "game = \"I want to play a game\"\n",
    "\n",
    "def game_board():\n",
    "    game = \"A game\"\n",
    "    return game\n",
    "\n",
    "game = game_board()\n",
    "print(game)"
   ]
  },
  {
   "cell_type": "markdown",
   "metadata": {},
   "source": [
    "Surprise, Python strings are immutable. Oops. Hope you knew that! If you were to quiz Python developers, I suspect a staggering number of the would not be able to confidentally answer if strings are mutable or not. So what do you do if you want to still use a function? Well, you can re-define."
   ]
  },
  {
   "cell_type": "code",
   "execution_count": 84,
   "metadata": {},
   "outputs": [
    {
     "name": "stdout",
     "output_type": "stream",
     "text": [
      "2088836777664\n",
      "2088836777664\n",
      "[1, 99, 3]\n",
      "2088836777664\n"
     ]
    }
   ],
   "source": [
    "game = [1, 2, 3]\n",
    "print(id(game))\n",
    "\n",
    "\n",
    "def game_board():\n",
    "    game[1] = 99\n",
    "    print(id(game))\n",
    "    return game\n",
    "\n",
    "\n",
    "game = game_board()\n",
    "print(game)\n",
    "print(id(game))\n",
    "\n",
    "# a"
   ]
  },
  {
   "cell_type": "code",
   "execution_count": 85,
   "metadata": {},
   "outputs": [
    {
     "name": "stdout",
     "output_type": "stream",
     "text": [
      "I want to play a game\n"
     ]
    }
   ],
   "source": [
    "game = \"I want to play a game\"\n",
    "\n",
    "\n",
    "def game_board():\n",
    "    game = \"A game\"\n",
    "    return game\n",
    "\n",
    "\n",
    "game_board()\n",
    "print(game)"
   ]
  },
  {
   "cell_type": "markdown",
   "metadata": {},
   "source": [
    "So, we can also use globals to modify variables like this. I went a very long way in Python before I really understood mutable vs immutable. I wound up treating *everything* in Python in a situation like this as if it was immutable, and... it served me pretty darn well. I cant imagine the reverse of that going very well!\n",
    "\n",
    "Let's get back to our TicTacToe game, but, before I leave for the next tutorial, here's a little quiz. If you think you're all set on mutable vs immutable, write down the values you expect to see in order from the following quiz, then run it:"
   ]
  },
  {
   "cell_type": "code",
   "execution_count": 86,
   "metadata": {},
   "outputs": [
    {
     "name": "stdout",
     "output_type": "stream",
     "text": [
      "1\n"
     ]
    }
   ],
   "source": [
    "x = 1\n",
    "def test():\n",
    "    x = 2\n",
    "test()\n",
    "print(x)"
   ]
  },
  {
   "cell_type": "code",
   "execution_count": 87,
   "metadata": {},
   "outputs": [
    {
     "name": "stdout",
     "output_type": "stream",
     "text": [
      "2\n"
     ]
    }
   ],
   "source": [
    "x = 1\n",
    "def test():\n",
    "    global x # setting global x for x such that x = 2 for all x \n",
    "    x = 2\n",
    "test() # runs test to set global x \n",
    "print(x)"
   ]
  },
  {
   "cell_type": "code",
   "execution_count": 88,
   "metadata": {},
   "outputs": [
    {
     "name": "stdout",
     "output_type": "stream",
     "text": [
      "[1]\n"
     ]
    }
   ],
   "source": [
    "x = [1]\n",
    "def test():\n",
    "    x = [2]\n",
    "test()\n",
    "print(x)"
   ]
  },
  {
   "cell_type": "code",
   "execution_count": 89,
   "metadata": {},
   "outputs": [
    {
     "name": "stdout",
     "output_type": "stream",
     "text": [
      "[2]\n"
     ]
    }
   ],
   "source": [
    "x = [1]\n",
    "def test():\n",
    "    global x\n",
    "    x = [2]\n",
    "test()\n",
    "print(x)\n"
   ]
  },
  {
   "cell_type": "code",
   "execution_count": 90,
   "metadata": {},
   "outputs": [
    {
     "name": "stdout",
     "output_type": "stream",
     "text": [
      "[2]\n"
     ]
    }
   ],
   "source": [
    "x = [1]\n",
    "def test():\n",
    "    x[0] = 2\n",
    "test() # sets the x index of 0 to be two such that the x variable element is changed to 2 \n",
    "print(x)"
   ]
  },
  {
   "cell_type": "markdown",
   "metadata": {},
   "source": [
    "A big part of programming is envisioning both how people will use your program legitimately as well as illegitimately. Not everyone is trying to hack you, some people just don't think the way you do and might try to do something that wont work. So let's start with the following code:"
   ]
  },
  {
   "cell_type": "code",
   "execution_count": 91,
   "metadata": {},
   "outputs": [],
   "source": [
    "game = [[0, 0, 0],\n",
    "        [0, 0, 0],\n",
    "        [0, 0, 0]]\n",
    "\n",
    "\n",
    "def game_board(game_map, player=0, row=0, column=0, just_display=False):\n",
    "    print(\"   0  1  2\")\n",
    "    if not just_display:\n",
    "        game_map[row][column] = player\n",
    "    for count, row in enumerate(game_map):\n",
    "        print(count, row)\n",
    "    return game_map\n",
    "\n",
    "# change game to game map for just better habits "
   ]
  },
  {
   "cell_type": "code",
   "execution_count": 92,
   "metadata": {},
   "outputs": [
    {
     "name": "stdout",
     "output_type": "stream",
     "text": [
      "   0  1  2\n"
     ]
    },
    {
     "ename": "IndexError",
     "evalue": "list index out of range",
     "output_type": "error",
     "traceback": [
      "\u001b[1;31m---------------------------------------------------------------------------\u001b[0m",
      "\u001b[1;31mIndexError\u001b[0m                                Traceback (most recent call last)",
      "Cell \u001b[1;32mIn[92], line 3\u001b[0m\n\u001b[0;32m      1\u001b[0m \u001b[38;5;66;03m# out of range error\u001b[39;00m\n\u001b[1;32m----> 3\u001b[0m game \u001b[38;5;241m=\u001b[39m game_board(game, player\u001b[38;5;241m=\u001b[39m\u001b[38;5;241m1\u001b[39m, row\u001b[38;5;241m=\u001b[39m\u001b[38;5;241m3\u001b[39m, column\u001b[38;5;241m=\u001b[39m\u001b[38;5;241m1\u001b[39m)\n",
      "Cell \u001b[1;32mIn[91], line 9\u001b[0m, in \u001b[0;36mgame_board\u001b[1;34m(game_map, player, row, column, just_display)\u001b[0m\n\u001b[0;32m      7\u001b[0m \u001b[38;5;28mprint\u001b[39m(\u001b[38;5;124m\"\u001b[39m\u001b[38;5;124m   0  1  2\u001b[39m\u001b[38;5;124m\"\u001b[39m)\n\u001b[0;32m      8\u001b[0m \u001b[38;5;28;01mif\u001b[39;00m \u001b[38;5;129;01mnot\u001b[39;00m just_display:\n\u001b[1;32m----> 9\u001b[0m     game_map[row][column] \u001b[38;5;241m=\u001b[39m player\n\u001b[0;32m     10\u001b[0m \u001b[38;5;28;01mfor\u001b[39;00m count, row \u001b[38;5;129;01min\u001b[39;00m \u001b[38;5;28menumerate\u001b[39m(game_map):\n\u001b[0;32m     11\u001b[0m     \u001b[38;5;28mprint\u001b[39m(count, row)\n",
      "\u001b[1;31mIndexError\u001b[0m: list index out of range"
     ]
    }
   ],
   "source": [
    "# out of range error\n",
    "\n",
    "game = game_board(game, player=1, row=3, column=1)\n"
   ]
  },
  {
   "cell_type": "code",
   "execution_count": 37,
   "metadata": {},
   "outputs": [],
   "source": [
    "def game_board(game_map, player=0, row=0, column=0, just_display=False):\n",
    "    try:\n",
    "        print(\"   0  1  2\")\n",
    "        if not just_display:\n",
    "            game_map[row][column] = player\n",
    "        for count, row in enumerate(game_map):\n",
    "            print(count, row)\n",
    "        return game_map\n",
    "    except:\n",
    "        print(\"A bad thing just happened.\")\n",
    "        return False\n",
    "    \n",
    "# try command and except if it does not run, then runs. "
   ]
  },
  {
   "cell_type": "code",
   "execution_count": 41,
   "metadata": {},
   "outputs": [
    {
     "name": "stdout",
     "output_type": "stream",
     "text": [
      "  0  1  2\n",
      "Did you attempt to play a row or column outside the range of 0 1 or 2? (IndexError)\n"
     ]
    }
   ],
   "source": [
    "# debugging \n",
    "\n",
    "game = [[0, 0, 0],\n",
    "        [0, 0, 0],\n",
    "        [0, 0, 0]]\n",
    "\n",
    "\n",
    "def game_board(game_map, player=0, row=0, column=0, just_display=False):\n",
    "    try:\n",
    "        print(\"  0  1  2\")\n",
    "        if not just_display:\n",
    "            game_map[row][column] = player\n",
    "        for count, row in enumerate(game_map):\n",
    "            print(count, row)\n",
    "        return game_map\n",
    "    except IndexError:\n",
    "        print(\"Did you attempt to play a row or column outside the range of 0 1 or 2? (IndexError)\")\n",
    "        return False\n",
    "\n",
    "game = game_board(game, player=1, row=3, column=1)"
   ]
  },
  {
   "cell_type": "markdown",
   "metadata": {},
   "source": [
    "Again, here we \"know\" when a winner has actually won (3 in a row horizontally, vertically, or diagonally), but how can we define this in a program?"
   ]
  },
  {
   "cell_type": "code",
   "execution_count": 46,
   "metadata": {},
   "outputs": [
    {
     "name": "stdout",
     "output_type": "stream",
     "text": [
      "[1, 1, 1]\n",
      "Player 1 is the WINNER!\n",
      "[2, 2, 0]\n",
      "[1, 2, 0]\n"
     ]
    }
   ],
   "source": [
    "# non empty game board\n",
    "\n",
    "game = [[1, 1, 1],\n",
    "        [2, 2, 0],\n",
    "        [1, 2, 0]]\n",
    "\n",
    "# if all quantites are vertically, horizontally, or diagonally the same first, then game over\n",
    "\n",
    "def win(current_game):\n",
    "    for row in game:\n",
    "        print(row)\n",
    "        # how might we check all items in this row? We could do something like:\n",
    "        column_1 = row[0]\n",
    "        column_2 = row[1]\n",
    "        column_3 = row[2]\n",
    "        if column_1 == column_2 == column_3:\n",
    "            print(\"Player 1 is the WINNER!\")\n",
    "win(game)\n"
   ]
  },
  {
   "cell_type": "markdown",
   "metadata": {},
   "source": [
    "Okay, so, how can we make this code dynamic? I can think of a few ways, and maybe you can too. What if you cant? Give up? NO!"
   ]
  },
  {
   "cell_type": "code",
   "execution_count": 54,
   "metadata": {},
   "outputs": [
    {
     "name": "stdout",
     "output_type": "stream",
     "text": [
      "[1, 1, 1]\n",
      "Player 1 is the Winner!\n",
      "[2, 2, 0]\n",
      "[1, 2, 0]\n"
     ]
    }
   ],
   "source": [
    "# more efficient and dynamic code: \n",
    "\n",
    "# let's say you have an array of three by three values \n",
    "game = [[1, 1, 1],\n",
    "        [2, 2, 0],\n",
    "        [1, 2, 0]]\n",
    "\n",
    "\n",
    "def win(current_game):\n",
    "    for row in game:\n",
    "        print(row) # checks the row \n",
    "        try:\n",
    "            if row.count(row[0]) == len(row) and row[0] != 0: # if number in row equals row and its non-zero \n",
    "                print(f\"Player {row[0]} is the Winner!\")\n",
    "        except:\n",
    "            print(\"Unclear Winner\")\n",
    "\n",
    "\n",
    "# horziontal checking -> the if function goes through each element in a row and checks to see if its not equal to zero and checks all three elements within that row for an amount of row in the array \n",
    "\n",
    "win(game)"
   ]
  },
  {
   "cell_type": "code",
   "execution_count": 48,
   "metadata": {},
   "outputs": [
    {
     "data": {
      "text/plain": [
       "True"
      ]
     },
     "execution_count": 48,
     "metadata": {},
     "output_type": "execute_result"
    }
   ],
   "source": [
    "x.count(x[0]) == len(x)\n",
    "\n"
   ]
  },
  {
   "cell_type": "code",
   "execution_count": 55,
   "metadata": {},
   "outputs": [
    {
     "name": "stdout",
     "output_type": "stream",
     "text": [
      "1\n",
      "1\n",
      "1\n",
      "[1, 0, 1]\n",
      "[1, 2, 0]\n",
      "[1, 2, 0]\n"
     ]
    }
   ],
   "source": [
    "game = [[1, 0, 1],\n",
    "        [1, 2, 0],\n",
    "        [1, 2, 0]]\n",
    "\n",
    "for row in game:\n",
    "    print(row[0])\n",
    "\n",
    "# vertically is a winner. \n",
    "\n",
    "win(game)"
   ]
  },
  {
   "cell_type": "code",
   "execution_count": 56,
   "metadata": {},
   "outputs": [
    {
     "name": "stdout",
     "output_type": "stream",
     "text": [
      "[1, 0, 1]\n",
      "[1, 2, 0]\n",
      "[1, 2, 0]\n"
     ]
    }
   ],
   "source": [
    "check = []\n",
    "for row in game:\n",
    "    print(row)\n",
    "    check.append(row[0]) # checks is another array with the row "
   ]
  },
  {
   "cell_type": "code",
   "execution_count": 57,
   "metadata": {},
   "outputs": [
    {
     "name": "stdout",
     "output_type": "stream",
     "text": [
      "[1, 0, 1]\n",
      "[1, 2, 0]\n",
      "[1, 2, 0]\n",
      "Winner!\n"
     ]
    }
   ],
   "source": [
    "game = [[1, 0, 1],\n",
    "        [1, 2, 0],\n",
    "        [1, 2, 0]]\n",
    "\n",
    "\n",
    "check = []\n",
    "for row in game:\n",
    "    print(row)\n",
    "    check.append(row[0]) # only adds the first element and thten applies same horizontal function to it \n",
    "\n",
    "if check.count(check[0]) == len(check) and check[0] != 0:\n",
    "    print(\"Winner!\")"
   ]
  },
  {
   "cell_type": "code",
   "execution_count": 60,
   "metadata": {},
   "outputs": [
    {
     "name": "stdout",
     "output_type": "stream",
     "text": [
      "[1, 0, 1]\n",
      "Player 1 is the Winner!\n",
      "[1, 2, 0]\n",
      "Player 1 is the Winner!\n",
      "[1, 2, 0]\n",
      "Player 1 is the Winner!\n"
     ]
    }
   ],
   "source": [
    "def win(current_game):\n",
    "    for row in game:\n",
    "        vertical_check = [] \n",
    "        vertical_check.append(row[0])\n",
    "        print(row) # checks the row \n",
    "        try:\n",
    "            if row.count(row[0]) == len(row) and row[0] != 0: # if number in row equals row and its non-zero \n",
    "                print(f\"Player {row[0]} is the Winner!\")       \n",
    "            if vertical_check.count(check[0]) == len(vertical_check) and vertical_check[0] != 0:\n",
    "                print(f\"Player {vertical_check[0]} is the Winner!\")\n",
    "        except:\n",
    "            print(\"Unclear Winner\")\n",
    "\n",
    "win(game)\n",
    "\n",
    "# bug of too many "
   ]
  },
  {
   "cell_type": "markdown",
   "metadata": {},
   "source": [
    "In Python, the count() method is used to count the number of times a specified value appears in a sequence, such as a string, list, or tuple."
   ]
  },
  {
   "cell_type": "code",
   "execution_count": 61,
   "metadata": {},
   "outputs": [
    {
     "name": "stdout",
     "output_type": "stream",
     "text": [
      "Winner!\n"
     ]
    }
   ],
   "source": [
    "for row in game:\n",
    "    check.append(row[0])\n",
    "\n",
    "if check.count(check[0]) == len(check) and check[0] != 0:\n",
    "    print(\"Winner!\")\n",
    "\n",
    "check = []\n",
    "for row in game:\n",
    "    check.append(row[1])\n",
    "\n",
    "if check.count(check[0]) == len(check) and check[0] != 0:\n",
    "    print(\"Winner!\")\n",
    "\n",
    "check = []\n",
    "for row in game:\n",
    "    check.append(row[2])\n",
    "\n",
    "if check.count(check[0]) == len(check) and check[0] != 0:\n",
    "    print(\"Winner!\")"
   ]
  },
  {
   "cell_type": "code",
   "execution_count": 64,
   "metadata": {},
   "outputs": [
    {
     "name": "stdout",
     "output_type": "stream",
     "text": [
      "Winner!\n",
      "3\n"
     ]
    }
   ],
   "source": [
    "game = [[1, 0, 1],\n",
    "        [0, 2, 1],\n",
    "        [1, 2, 1]]\n",
    "\n",
    "columns = [0, 1, 2]\n",
    "for col in columns:\n",
    "    check = []\n",
    "    for row in game:\n",
    "        check.append(row[col])\n",
    "    if check.count(check[0]) == len(check) and check[0] != 0:\n",
    "        print(\"Winner!\")\n",
    "\n",
    "print(len(game[0]))"
   ]
  },
  {
   "cell_type": "code",
   "execution_count": 65,
   "metadata": {},
   "outputs": [
    {
     "name": "stdout",
     "output_type": "stream",
     "text": [
      "0\n",
      "1\n",
      "2\n"
     ]
    }
   ],
   "source": [
    "for i in range (3): # 0 <= i < 3 integers \n",
    "    print(i)"
   ]
  },
  {
   "cell_type": "code",
   "execution_count": null,
   "metadata": {},
   "outputs": [],
   "source": [
    "for column in range(len(game[0])):\n",
    "    checker = [] \n",
    "\n",
    "    for row in game: \n",
    "        checker.append(row[column])\n",
    "        if checker.count(checker[0]) == len(check) and checker[0] != 0: \n",
    "            print(\"Winnnnnner!!!!\")"
   ]
  },
  {
   "cell_type": "code",
   "execution_count": null,
   "metadata": {},
   "outputs": [],
   "source": []
  },
  {
   "cell_type": "code",
   "execution_count": null,
   "metadata": {},
   "outputs": [],
   "source": []
  },
  {
   "cell_type": "markdown",
   "metadata": {},
   "source": [
    "what if i train an neural net to find the best strategy for tic tac toe game. "
   ]
  }
 ],
 "metadata": {
  "kernelspec": {
   "display_name": "base",
   "language": "python",
   "name": "python3"
  },
  "language_info": {
   "codemirror_mode": {
    "name": "ipython",
    "version": 3
   },
   "file_extension": ".py",
   "mimetype": "text/x-python",
   "name": "python",
   "nbconvert_exporter": "python",
   "pygments_lexer": "ipython3",
   "version": "3.12.7"
  }
 },
 "nbformat": 4,
 "nbformat_minor": 2
}
